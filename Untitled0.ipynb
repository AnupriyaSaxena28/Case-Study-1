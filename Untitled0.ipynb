{
  "nbformat": 4,
  "nbformat_minor": 0,
  "metadata": {
    "colab": {
      "provenance": []
    },
    "kernelspec": {
      "name": "python3",
      "display_name": "Python 3"
    },
    "language_info": {
      "name": "python"
    }
  },
  "cells": [
    {
      "cell_type": "code",
      "execution_count": 3,
      "metadata": {
        "colab": {
          "base_uri": "https://localhost:8080/"
        },
        "id": "SJefiihBZ9_p",
        "outputId": "4c50b852-f604-41cd-fa8a-7ddcb5689162"
      },
      "outputs": [
        {
          "output_type": "stream",
          "name": "stdout",
          "text": [
            "Enter the cost of first item(in $) : 12\n",
            "Enter the cost of second item(in $) : 10\n",
            "Enter the cost of third item(in $) : 10\n",
            "Total cost(in $) : 32\n"
          ]
        }
      ],
      "source": [
        "a=int(input(\"Enter the cost of first item(in $) : \"))\n",
        "b=int(input(\"Enter the cost of second item(in $) : \"))\n",
        "c=int(input(\"Enter the cost of third item(in $) : \"))\n",
        "s=a+b+c\n",
        "if s>50:\n",
        "  s=s-0.1*s\n",
        "print(\"Total cost(in $) :\",s)"
      ]
    }
  ]
}